{
 "cells": [
  {
   "cell_type": "code",
   "execution_count": 48,
   "id": "3073c0ab",
   "metadata": {},
   "outputs": [],
   "source": [
    "import pandas as pd\n",
    "import numpy as np\n",
    "import matplotlib as mpl\n",
    "import matplotlib.pyplot as plt\n",
    "%matplotlib inline\n",
    "\n",
    "\n",
    "import scipy as sc\n",
    "import math as ma\n",
    "from scipy import linalg, optimize, constants, interpolate, special, stats\n",
    "from math import exp, pow, sqrt, log\n",
    "\n",
    "import seaborn as sns #spezielle Graphikdarstellungen\n",
    "import statsmodels.api as sm\n",
    "import statsmodels.stats.api as sms\n",
    "\n",
    "#den oberen Teil kennt man schon vom letzten Mal...\n",
    "#Theano kommt neu dazu - \n",
    "#Library für effiziente Berechnungen mit großen Matrizen -> DeepLearning!\n",
    "import theano \n",
    "import tensorflow\n",
    "\n",
    " \n",
    "#Jetzt noch scikit-learn:\n",
    "#hier stecken viele Funktionalitäten drin, die man gut brauchen kann: \n",
    "#Fehlerfunktionen, Standard-Modelltypen, Preprocessing-Algorithmen, Daten... \n",
    "\n",
    "import sklearn as sl \n",
    "from sklearn import model_selection, metrics, datasets\n",
    "from sklearn.preprocessing import OneHotEncoder\n",
    "from sklearn.metrics import confusion_matrix\n",
    "#Import wichtiger Keras Funktionalitäten\n",
    "\n",
    "import keras\n",
    "from keras.datasets import mnist\n",
    "from keras.models import Sequential\n",
    "from keras.layers import Dense, Dropout, Flatten, Activation\n",
    "from keras.layers import Conv2D, MaxPooling2D\n",
    "from keras import backend as K\n",
    "\n",
    "from keras.utils import to_categorical\n",
    "from keras.optimizers import SGD #Stochastic Gradient Descent\n",
    "from keras.utils import plot_model\n",
    "\n",
    "import pickle"
   ]
  },
  {
   "cell_type": "code",
   "execution_count": 49,
   "id": "b6637f8b",
   "metadata": {
    "scrolled": true
   },
   "outputs": [],
   "source": [
    "# prepare gray scale data\n",
    "data_gray_file = open('./archiv/data6.pickle', 'rb')\n",
    "data_gray = pickle.load(data_gray_file, encoding='latin1')\n",
    "data_gray_file.close()\n",
    "\n",
    "# Preparing y_train and y_validation for use in Keras\n",
    "data_gray['y_train'] = to_categorical(data_gray['y_train'], num_classes=43)\n",
    "data_gray['y_validation'] = to_categorical(data_gray['y_validation'], num_classes=43)\n",
    "\n",
    "\n",
    "# prepare color data\n",
    "data_color_file = open('./archiv/data1.pickle', 'rb')\n",
    "data_color = pickle.load(data_color_file, encoding='latin1')\n",
    "data_color_file.close()\n",
    "\n",
    "# Preparing y_train and y_validation for use in Keras\n",
    "data_color['y_train'] = to_categorical(data_color['y_train'], num_classes=43)\n",
    "data_color['y_validation'] = to_categorical(data_color['y_validation'], num_classes=43)"
   ]
  },
  {
   "cell_type": "code",
   "execution_count": 50,
   "id": "75bd607a",
   "metadata": {},
   "outputs": [
    {
     "name": "stdout",
     "output_type": "stream",
     "text": [
      "x_train_gray.shape: (86989, 32, 32, 1)\n",
      "x_train_color.shape: (86989, 32, 32, 3)\n",
      "x_test_gray.shape: (12630, 32, 32, 1)\n",
      "x_test_color.shape: (12630, 32, 32, 3)\n",
      "y_train_gray.shape: (86989, 43)\n",
      "y_train_color.shape: (86989, 43, 43)\n",
      "y_test_gray.shape: (12630, 43)\n",
      "y_test_color.shape: (12630, 43)\n"
     ]
    }
   ],
   "source": [
    "# Transpose data to have channel at the end\n",
    "x_train_gray = data_gray['x_train'].transpose(0, 2, 3, 1)\n",
    "x_train_color = data_color['x_train'].transpose(0, 2, 3, 1)\n",
    "\n",
    "x_test_gray = data_gray['x_test'].transpose(0, 2, 3, 1)\n",
    "x_test_color = data_color['x_test'].transpose(0, 2, 3, 1)\n",
    "\n",
    "x_validation_gray = data_gray['x_validation'].transpose(0, 2, 3, 1)\n",
    "x_validation_color = data_color['x_validation'].transpose(0, 2, 3, 1)\n",
    "\n",
    "# one hot encoding\n",
    "#y_train_gray = to_categorical(data_gray['y_train'], num_classes=43)\n",
    "y_train_gray = data_gray['y_train']\n",
    "y_train_color = to_categorical(data_color['y_train'], num_classes=43)\n",
    "y_test_gray = to_categorical(data_gray['y_test'], num_classes=43)\n",
    "#y_test_gray = data_gray['y_test']\n",
    "y_test_color = to_categorical(data_color['y_test'], num_classes=43)\n",
    "\n",
    "print('x_train_gray.shape: ' + str(x_train_gray.shape))\n",
    "print('x_train_color.shape: ' + str(x_train_color.shape))\n",
    "print('x_test_gray.shape: ' + str(x_test_gray.shape))\n",
    "print('x_test_color.shape: ' + str(x_test_color.shape))\n",
    "\n",
    "\n",
    "print('y_train_gray.shape: ' + str(y_train_gray.shape))\n",
    "print('y_train_color.shape: ' + str(y_train_color.shape))\n",
    "print('y_test_gray.shape: ' + str(y_test_gray.shape))\n",
    "print('y_test_color.shape: ' + str(y_test_color.shape))"
   ]
  },
  {
   "cell_type": "code",
   "execution_count": 39,
   "id": "987ffb96",
   "metadata": {},
   "outputs": [],
   "source": [
    "# def plotConfusionMatrix(y_true, y_pred):\n",
    "    # y_pred1 = np.argmax(y_pred, axis=1)\n",
    "    #y_true1=np.argmax(y_true, axis=1)\n",
    "\n",
    "    #cm = confusion_matrix(y_true=y_true1, y_pred=y_pred1)\n",
    "\n",
    "    #plt.figure(figsize=(14,12))\n",
    "    #sns.heatmap(cm, cmap=mpl.cm.Blues)"
   ]
  },
  {
   "cell_type": "markdown",
   "id": "4ce054d7",
   "metadata": {},
   "source": [
    "# 3 Layer MLP\n",
    "Daten reshapen damit sie als Vektor statt als 4D Array vorliegen"
   ]
  },
  {
   "cell_type": "code",
   "execution_count": 51,
   "id": "76291ede",
   "metadata": {},
   "outputs": [
    {
     "name": "stdout",
     "output_type": "stream",
     "text": [
      "(86989, 1024)\n"
     ]
    }
   ],
   "source": [
    "x_train_gray = x_train_gray.reshape(x_train_gray.shape[0], 1*32*32)\n",
    "x_test_gray = x_test_gray.reshape(x_test_gray.shape[0], 1*32*32)\n",
    "x_validation = x_validation_gray.reshape(x_validation_gray.shape[0], 1*32*32)\n",
    "\n",
    "print(x_train_gray.shape)"
   ]
  },
  {
   "cell_type": "code",
   "execution_count": 58,
   "id": "9cc5ed3d",
   "metadata": {},
   "outputs": [
    {
     "name": "stdout",
     "output_type": "stream",
     "text": [
      "Epoch 1/20\n",
      "680/680 [==============================] - 5s 5ms/step - loss: 0.0881 - accuracy: 0.4622 - val_loss: 0.0567 - val_accuracy: 0.6251\n",
      "Epoch 2/20\n",
      "680/680 [==============================] - 3s 5ms/step - loss: 0.0444 - accuracy: 0.7723 - val_loss: 0.0411 - val_accuracy: 0.7610\n",
      "Epoch 3/20\n",
      "680/680 [==============================] - 3s 5ms/step - loss: 0.0333 - accuracy: 0.8393 - val_loss: 0.0344 - val_accuracy: 0.8017\n",
      "Epoch 4/20\n",
      "680/680 [==============================] - 3s 5ms/step - loss: 0.0280 - accuracy: 0.8690 - val_loss: 0.0327 - val_accuracy: 0.8147\n",
      "Epoch 5/20\n",
      "680/680 [==============================] - 3s 5ms/step - loss: 0.0246 - accuracy: 0.8855 - val_loss: 0.0305 - val_accuracy: 0.8320\n",
      "Epoch 6/20\n",
      "680/680 [==============================] - 3s 5ms/step - loss: 0.0223 - accuracy: 0.8968 - val_loss: 0.0304 - val_accuracy: 0.8369\n",
      "Epoch 7/20\n",
      "680/680 [==============================] - 3s 5ms/step - loss: 0.0206 - accuracy: 0.9058 - val_loss: 0.0288 - val_accuracy: 0.8420\n",
      "Epoch 8/20\n",
      "680/680 [==============================] - 3s 5ms/step - loss: 0.0192 - accuracy: 0.9116 - val_loss: 0.0292 - val_accuracy: 0.8419\n",
      "Epoch 9/20\n",
      "680/680 [==============================] - 3s 5ms/step - loss: 0.0182 - accuracy: 0.9164 - val_loss: 0.0302 - val_accuracy: 0.8401\n",
      "Epoch 10/20\n",
      "680/680 [==============================] - 3s 5ms/step - loss: 0.0173 - accuracy: 0.9211 - val_loss: 0.0271 - val_accuracy: 0.8625\n",
      "Epoch 11/20\n",
      "680/680 [==============================] - 4s 6ms/step - loss: 0.0165 - accuracy: 0.9241 - val_loss: 0.0285 - val_accuracy: 0.8432\n",
      "Epoch 12/20\n",
      "680/680 [==============================] - 3s 5ms/step - loss: 0.0158 - accuracy: 0.9280 - val_loss: 0.0289 - val_accuracy: 0.8546\n",
      "Epoch 13/20\n",
      "680/680 [==============================] - 3s 4ms/step - loss: 0.0152 - accuracy: 0.9306 - val_loss: 0.0296 - val_accuracy: 0.8584\n",
      "Epoch 14/20\n",
      "680/680 [==============================] - 3s 4ms/step - loss: 0.0147 - accuracy: 0.9332 - val_loss: 0.0277 - val_accuracy: 0.8679\n",
      "Epoch 15/20\n",
      "680/680 [==============================] - 3s 4ms/step - loss: 0.0142 - accuracy: 0.9355 - val_loss: 0.0284 - val_accuracy: 0.8606\n",
      "Epoch 16/20\n",
      "680/680 [==============================] - 3s 4ms/step - loss: 0.0139 - accuracy: 0.9371 - val_loss: 0.0282 - val_accuracy: 0.8665\n",
      "Epoch 17/20\n",
      "680/680 [==============================] - 3s 5ms/step - loss: 0.0134 - accuracy: 0.9390 - val_loss: 0.0285 - val_accuracy: 0.8690\n",
      "Epoch 18/20\n",
      "680/680 [==============================] - 4s 5ms/step - loss: 0.0131 - accuracy: 0.9412 - val_loss: 0.0303 - val_accuracy: 0.8696\n",
      "Epoch 19/20\n",
      "680/680 [==============================] - 4s 5ms/step - loss: 0.0128 - accuracy: 0.9425 - val_loss: 0.0288 - val_accuracy: 0.8675\n",
      "Epoch 20/20\n",
      "680/680 [==============================] - 3s 5ms/step - loss: 0.0125 - accuracy: 0.9438 - val_loss: 0.0291 - val_accuracy: 0.8605\n"
     ]
    },
    {
     "data": {
      "text/plain": [
       "<matplotlib.legend.Legend at 0x1c286ae35b0>"
      ]
     },
     "execution_count": 58,
     "metadata": {},
     "output_type": "execute_result"
    },
    {
     "data": {
      "image/png": "[encoded data removed]",
      "text/plain": [
       "<Figure size 1008x720 with 2 Axes>"
      ]
     },
     "metadata": {
      "needs_background": "light"
     },
     "output_type": "display_data"
    }
   ],
   "source": [
    "# Definition Topologie des Netzes\n",
    "three_layer_mlp = Sequential()\n",
    "three_layer_mlp.add(Dense(86, activation ='relu', input_dim=1024))\n",
    "three_layer_mlp.add(Dense(43, activation='softmax'))\n",
    "\n",
    "#Lernprozess konfigurieren\n",
    "three_layer_mlp.compile(loss='binary_crossentropy',\n",
    "              optimizer='rmsprop',\n",
    "              metrics=['accuracy'])\n",
    "\n",
    "# Modell trainieren\n",
    "three_layer_mlp_history = three_layer_mlp.fit(x_train_gray, y_train_gray, \n",
    "          epochs=20, #Anzahl Trainingsepochen\n",
    "          batch_size=128, #Batch-Size\n",
    "          verbose=1,  \n",
    "          validation_data=(x_test_gray, y_test_gray)) #print Ausgabe des Trainingsverlaufes 0=nein 1=ja\n",
    "\n",
    "#plt.plot(dnn_no_dropout_history.history['accuracy'], label='train_acc')\n",
    "#plt.plot(dnn_no_dropout_history.history['val_accuracy'], label='val_acc')\n",
    "plt.figure(figsize=(14,10))\n",
    "\n",
    "plt.subplot(221)\n",
    "plt.plot(three_layer_mlp_history.history['loss'], label='train_loss')\n",
    "plt.plot(three_layer_mlp_history.history['val_loss'], label='val_loss')\n",
    "plt.legend(['train_loss', 'val_loss'])\n",
    "\n",
    "plt.subplot(222)\n",
    "plt.plot(three_layer_mlp_history.history['accuracy'], label='train_acc')\n",
    "plt.plot(three_layer_mlp_history.history['val_accuracy'], label='val_acc')\n",
    "plt.legend(['train_acc', 'val_acc'])"
   ]
  },
  {
   "cell_type": "markdown",
   "id": "0455687c",
   "metadata": {},
   "source": [
    "# Vergleich mehrerer Aktivierungsfunktionen"
   ]
  },
  {
   "cell_type": "code",
   "execution_count": null,
   "id": "f5fd234f",
   "metadata": {},
   "outputs": [],
   "source": []
  }
 ],
 "metadata": {
  "kernelspec": {
   "display_name": "Python 3 (ipykernel)",
   "language": "python",
   "name": "python3"
  },
  "language_info": {
   "codemirror_mode": {
    "name": "ipython",
    "version": 3
   },
   "file_extension": ".py",
   "mimetype": "text/x-python",
   "name": "python",
   "nbconvert_exporter": "python",
   "pygments_lexer": "ipython3",
   "version": "3.9.5"
  }
 },
 "nbformat": 4,
 "nbformat_minor": 5
}
