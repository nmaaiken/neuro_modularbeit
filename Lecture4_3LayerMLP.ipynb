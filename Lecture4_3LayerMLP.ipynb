{
 "cells": [
  {
   "cell_type": "code",
   "execution_count": 1,
   "metadata": {},
   "outputs": [],
   "source": [
    "import pandas as pd\n",
    "import numpy as np\n",
    "import matplotlib as mpl\n",
    "import matplotlib.pyplot as plt\n",
    "import sklearn as sl\n",
    "%matplotlib inline\n",
    "import scipy as sc\n",
    "import math as ma\n",
    "from scipy import linalg, optimize, constants, interpolate, special, stats\n",
    "from math import exp, pow, sqrt, log\n",
    "\n",
    "import seaborn as sns #spezielle Graphikdarstellungen\n",
    "import statsmodels.api as sm\n",
    "import statsmodels.stats.api as sms"
   ]
  },
  {
   "cell_type": "markdown",
   "metadata": {},
   "source": [
    "Ziel: eigenes 3-layer MLP auf Basis der gelernten Konzepte!\n",
    "\n",
    "Read: Tariq Rashid: \"Make your own Neural Network\"\n",
    "\n",
    "\n",
    "Jetzt werden die einzelnen Bestandteile eines 3-Layer MLPs zusammengesetzt...  \n",
    "\n",
    "Die Klasse \"MLP\" sollte mindestens drei Eigenschaften haben:  \n",
    "\n",
    "1) Initialisierung der Gewichte mit Zufallszahlen  \n",
    "2) Training = Gewichtanpassung anhand von Trainingsbeispielen  \n",
    "3) In-Out Abfrage: wird ein Input ins trainierte Netz eingespeist soll eine Ausgabe erfolgen    \n",
    "\n",
    "Also sind die Grundelemente der Klasse wie folgt zu definieren:"
   ]
  },
  {
   "cell_type": "code",
   "execution_count": 2,
   "metadata": {},
   "outputs": [],
   "source": [
    "#class definition für Neural Network object\n",
    "class neuralNetwork:\n",
    "\n",
    "    #Initialization \n",
    "    def __init__():\n",
    "        pass\n",
    "\n",
    "    #Training \n",
    "    def train():\n",
    "        pass \n",
    "\n",
    "    #Query\n",
    "    def query():\n",
    "        pass"
   ]
  },
  {
   "cell_type": "markdown",
   "metadata": {},
   "source": [
    "Zunächst soll die Initialisierung durchgeführt werden.  \n",
    "Die Anzahl der Gewichte in den Matrizen hängt von der Dimension des Inputs und der Anzahl der Neuronen in der Hidden und Output-Schicht ab:  \n",
    "\n",
    "       -> freie Parameter = Meta-Parameter  \n",
    "       \n",
    "Die Lernrate ist ein weiterer wichtiger Parameter, der berücksichtigt werden muß."
   ]
  },
  {
   "cell_type": "code",
   "execution_count": 3,
   "metadata": {},
   "outputs": [],
   "source": [
    "#class definition für Neural Network object \n",
    "class neuralNetwork:\n",
    "\n",
    "    #Initialisierung\n",
    "\n",
    "    def __init__(self, inputnodes, hiddennodes, outputnodes, learningrate):\n",
    "\n",
    "        #setze Nummer der nodes in jeder input, hidden & output layer\n",
    "    \n",
    "        self.inodes = inputnodes \n",
    "        #self sorgt dafür, daß die Funktion beim Erzeugen dem richtigen Objekt zugewiesen wir\n",
    "        self.hnodes = hiddennodes \n",
    "        self.onodes = outputnodes\n",
    "        #learning rate \n",
    "        self.lr = learningrate \n",
    "        pass\n",
    "    \n",
    "    #Training \n",
    "    def train():\n",
    "        pass\n",
    "    \n",
    "    #Query\n",
    "    def query():\n",
    "        pass\n",
    "                "
   ]
  },
  {
   "cell_type": "markdown",
   "metadata": {},
   "source": [
    "jetzt müssen die entsprechenden Gewichtsmatrizen zwischen Input und Hidden (Größe hiddennodes x inputnodes) und Hidden und Output (Größe outputnodes x hiddennodes) angelegt und für den Anfang mit zufälligen kleinen Gewichten belegt werden."
   ]
  },
  {
   "cell_type": "code",
   "execution_count": 4,
   "metadata": {},
   "outputs": [],
   "source": [
    "#class definition für Neural Network object\n",
    "class neuralNetwork:\n",
    "    #Initialisierung\n",
    "    def __init__(self, inputnodes, hiddennodes, outputnodes, learningrate):\n",
    "                 \n",
    "        #setze Nummer der nodes in jeder input, hidden & output layer\n",
    "\n",
    "        self.inodes = inputnodes\n",
    "        self.hnodes = hiddennodes \n",
    "        self.onodes = outputnodes\n",
    "        #Gewichtmatrizen input->hidden wih und hidden->output who\n",
    "        #die Gewichte innerhalb der arrays sind w_i_j,\n",
    "        #womit das Neuron i mit dem j-ten der nächsten Schicht verbunden wird\n",
    "        self.wih = np.random.normal(0.0, pow(self.hnodes,-0.5), (self.hnodes, self.inodes))\n",
    "        self.who = np.random.normal(0.0, pow(self.onodes,-0.5), (self.onodes, self.hnodes))\n",
    "        \n",
    "    \n",
    "        #learning rate \n",
    "        self.lr = learningrate \n",
    "        pass\n",
    "    \n",
    "    #Training \n",
    "    def train():\n",
    "        pass\n",
    "    #Query\n",
    "    def query():\n",
    "        pass\n",
    "               "
   ]
  },
  {
   "cell_type": "markdown",
   "metadata": {},
   "source": [
    "...das Einzige was für die Initialisierung jetzt noch fehlt sind die Definitionen der Aktivierungsfunktionen, die in der Hidden und Output-Schicht verwendet werden sollen...\n",
    "  "
   ]
  },
  {
   "cell_type": "code",
   "execution_count": 5,
   "metadata": {},
   "outputs": [],
   "source": [
    "#class definition für Neural Network object \n",
    "\n",
    "class neuralNetwork:\n",
    "    \n",
    "    #Initialisierung\n",
    "    def __init__(self, inputnodes, hiddennodes, outputnodes, learningrate):\n",
    "        #setze Nummer der nodes in jeder input, hidden & output layer\n",
    "        self.inodes = inputnodes #self sorgt dafür, daß die Funktion beim Erzeugen dem richtigen Objekt zugewiesen wird                     \n",
    "        self.hnodes = hiddennodes \n",
    "        self.onodes = outputnodes\n",
    "    \n",
    "        #Gewichtmatrizen input->hidden wih und hidden->output who\n",
    "        #die Gewichte innerhalb der arrays sind w_i_j,\n",
    "        #womit das Neuron i mit dem j-ten der nächsten Schicht verbunden wird\n",
    "    \n",
    "        self.wih = np.random.normal(0.0, pow(self.hnodes,-0.5), (self.hnodes, self.inodes))\n",
    "        self.who = np.random.normal(0.0, pow(self.onodes,-0.5), (self.onodes, self.hnodes))\n",
    "    \n",
    "    #learning rate \n",
    "        self.lr = learningrate \n",
    "        pass\n",
    "    \n",
    "    #Aktivierungsfunktion der Hidden Schicht z.B. Sigmoid (logistic activation) Funktion\n",
    "    #gebräuchlich wäre auch tanh oder ReLU\n",
    "    #hier wird diese Aktivierung auch in der Ausgabeschicht verwendet\n",
    "\n",
    "        self.activation_function = lambda x: special.expit(x) #lambda sorgt dafür, Fkt. anonym bleibt\n",
    "        pass\n",
    "\n",
    "    #Aktivierungsfunktion der Output Schicht - hängt stark vom Problem und der Loss-Funktion ab\n",
    "    #1) Regression: square Loss + Identity\n",
    "    #2) Klassifikation: cross entropy loss + sigmoid/softmax\n",
    "    \n",
    "    #Training \n",
    "    def train():\n",
    "        pass\n",
    "    \n",
    "    #Query\n",
    "    def query():\n",
    "        pass"
   ]
  },
  {
   "cell_type": "markdown",
   "metadata": {},
   "source": [
    "Um die bisherigen Schritte testen zu können ist es geschickt erstmal an der Query-Funktion weiterzuarbeiten.\n",
    "Dann könnte man einen Vorwärtspfad durch das initialisierte Netz durchlaufen und eine Ausgabe generieren.\n",
    "Der Query-Funktion müssen nur die Inputs übergeben werden...\n",
    "                 "
   ]
  },
  {
   "cell_type": "code",
   "execution_count": 6,
   "metadata": {},
   "outputs": [],
   "source": [
    "#class definition für Neural Network object \n",
    "\n",
    "class neuralNetwork:\n",
    "#Initialisierung\n",
    "    def __init__(self, inputnodes, hiddennodes, outputnodes, learningrate):\n",
    "        #setze Nummer der nodes in jeder input, hidden & output layer\n",
    "        self.inodes = inputnodes \n",
    "        self.hnodes = hiddennodes \n",
    "        self.onodes = outputnodes\n",
    "    \n",
    "        #Gewichtmatrizen input->hidden wih und hidden->output who\n",
    "        #die Gewichte innerhalb der arrays sind w_i_j,\n",
    "        #womit das Neuron i mit dem j-ten der nächsten Schicht verbunden wird\n",
    "        self.wih = np.random.normal(0.0, pow(self.hnodes,-0.5), (self.hnodes, self.inodes))\n",
    "        self.who = np.random.normal(0.0, pow(self.onodes,-0.5), (self.onodes, self.hnodes))\n",
    "    \n",
    "        #learning rate \n",
    "        self.lr = learningrate \n",
    "        pass\n",
    "    \n",
    "        #Aktivierungsfunktion der Hidden Schicht z.B. Sigmoid (logistic activation) Funktion\n",
    "        #gebräuchlich wäre auch tanh oder ReLU\n",
    "        #hier wird diese Aktivierung auch in der Ausgabeschicht verwendet\n",
    "        self.activation_function = lambda x: special.expit(x) #lambda sorgt dafür, Fkt. anonym bleibt\n",
    "        pass\n",
    "\n",
    "        #Aktivierungsfunktion der Output Schicht - hängt stark vom Problem und der Loss-Funktion ab\n",
    "    \n",
    "        #1) Regression: square Loss + Identity\n",
    "        #2) Klassifikation: cross entropy loss\n",
    "        \n",
    "    #Training \n",
    "    def train():\n",
    "        pass\n",
    "\n",
    "    #Query\n",
    "    def query(self, inputs_list):\n",
    "   \n",
    "        #sicherstellen, daß die Liste der Inputs ein 2D NumPy array ist \n",
    "        #für die anschl. Rechnungen muß das array noch transponiert werden \n",
    "        inputs = np.array(inputs_list, ndmin=2).T\n",
    "        \n",
    "        #Berechnung der Eingangssignale in die Hiddenschicht \n",
    "        #d.h. Multiplikation der ersten Matrix mit dem Input-array \n",
    "        hidden_inputs = np.dot(self.wih, inputs)\n",
    "        \n",
    "        #Berechnung der Ausgangssignale der Hiddenschicht\n",
    "        #d.h. Anwendung der Aktivierungsfunktion\n",
    "        hidden_outputs = self.activation_function(hidden_inputs)\n",
    "        \n",
    "        #Berechnung der Eingangssignale in die Output-Schicht \n",
    "        final_inputs = np.dot(self.who, hidden_outputs)\n",
    "        \n",
    "        #Berechnung der Ausgangssignale der Output-Schicht \n",
    "        #d.h. Anwendung der Aktivierungsfunktion \n",
    "        final_outputs = self.activation_function(final_inputs)\n",
    "        \n",
    "        return final_outputs \n",
    "        pass\n",
    "         "
   ]
  },
  {
   "cell_type": "markdown",
   "metadata": {},
   "source": [
    "jetzt mal ein allererster Test:  \n",
    "1) Generieren eines speziellen Neuro-Objektes aus der oben definierten Klasse  \n",
    "2) Einsetzen von einem zufälligen Vektor mit geeigneter Dimension\n",
    "           "
   ]
  },
  {
   "cell_type": "code",
   "execution_count": 7,
   "metadata": {},
   "outputs": [],
   "source": [
    "#Festlegen der Neuro-Struktur durch Definition der Neuronenzahlen\n",
    "input_nodes = 3\n",
    "hidden_nodes = 3\n",
    "output_nodes = 3\n",
    "\n",
    "#Lernrate \n",
    "learning_rate = 0.3\n",
    "#Erstellen des konkreten Neuro-Objektes\n",
    "n = neuralNetwork(input_nodes, hidden_nodes, output_nodes, learning_rate)"
   ]
  },
  {
   "cell_type": "markdown",
   "metadata": {},
   "source": [
    "jetzt kann man einen Vorwärtspfad berechnen und das Ergebnis ausgeben lassen..."
   ]
  },
  {
   "cell_type": "code",
   "execution_count": 8,
   "metadata": {},
   "outputs": [
    {
     "data": {
      "text/plain": [
       "array([[0.77490519],\n",
       "       [0.30535185],\n",
       "       [0.63949353]])"
      ]
     },
     "execution_count": 8,
     "metadata": {},
     "output_type": "execute_result"
    }
   ],
   "source": [
    "n.query([1.2, 2.0,1])\n"
   ]
  },
  {
   "cell_type": "markdown",
   "metadata": {},
   "source": [
    "## Letzter fehlender Schritt:  \n",
    "\n",
    "## Training des Netzes!  \n",
    "\n",
    "Für das Training sind eigentlich nur zwei Dinge relevant:  \n",
    "die Inputs und natürlich die Targets - an denen wird der Fehler berechnet und hinterher für die Backpropagation genutzt\n",
    "   \n",
    "    "
   ]
  },
  {
   "cell_type": "code",
   "execution_count": 17,
   "metadata": {},
   "outputs": [],
   "source": [
    "#class definition für Neural Network object\n",
    "class neuralNetwork:\n",
    "    #Initialisierung\n",
    "    def __init__(self, inputnodes, hiddennodes, outputnodes, learningrate):\n",
    "        #setze Nummer der nodes in jeder input, hidden & output layer\n",
    "        self.inodes = inputnodes #self sorgt dafür, daß die Funktion beim Erzeugen dem richtigen Objekt zugewiesen wird\n",
    "        self.hnodes = hiddennodes \n",
    "        self.onodes = outputnodes\n",
    "\n",
    "        #Gewichtmatrizen input->hidden wih und hidden->output who\n",
    "        #die Gewichte innerhalb der arrays sind w_i_j,\n",
    "        #womit das Neuron i mit dem j-ten der nächsten Schicht verbunden wird\n",
    "        \n",
    "        self.wih = np.random.normal(0.0, pow(self.hnodes,-0.5), (self.hnodes, self.inodes))\n",
    "        self.who = np.random.normal(0.0, pow(self.onodes,-0.5), (self.onodes, self.hnodes))\n",
    "        \n",
    "        #learning rate \n",
    "        self.lr = learningrate \n",
    "        pass\n",
    "    \n",
    "        #Aktivierungsfunktion der Hidden Schicht z.B. Sigmoid (logistic activation) Funktion\n",
    "        #gebräuchlich wäre auch tanh oder ReLU\n",
    "        #hier wird diese Aktivierung auch in der Ausgabeschicht verwendet\n",
    "        \n",
    "        self.activation_function = lambda x: special.expit(x) #lambda sorgt dafür, Fkt. anonym bleibt\n",
    "        pass\n",
    "    \n",
    "        #Aktivierungsfunktion der Output Schicht - hängt stark vom Problem und der Loss-Funktion ab\n",
    "        #1) Regression: square Loss + Identity\n",
    "        #2) Klassifikation: cross entropy loss + sigmoid/softmax\n",
    "        \n",
    "    #Training\n",
    "    def train(self, inputs_list, targets_list):\n",
    "        \n",
    "        #Inputs und Targets als 2D NumPy array schreiben \n",
    "        inputs = np.array(inputs_list, ndmin=2).T \n",
    "        targets = np.array(targets_list, ndmin=2).T\n",
    "        \n",
    "        #Eingangssignale in die Hidden Schicht\n",
    "        hidden_inputs = np.dot(self.wih, inputs) #Ausgangssignale aus der Hiddenschicht\n",
    "        hidden_outputs = self.activation_function(hidden_inputs) #Eingangssignale in Ausgabeschicht\n",
    "        final_inputs = np.dot(self.who, hidden_outputs)\n",
    " \n",
    "        #Berechnung der Ausgangssignale der Output-Schicht\n",
    "        #d.h. Anwendung der Aktivierungsfunktion\n",
    "        final_outputs = self.activation_function_out(final_inputs)\n",
    "        \n",
    "        #Berechnung des Fehlers Output-Target oder Target-Output - keine spezifische Fehlerfunktion\n",
    "        output_errors = final_outputs - targets\n",
    "        \n",
    "        #Berechnung der lokalen Fehler im Backpropagation Fehlerfluß: \n",
    "        errors_hid = weights.T_hid_out*errors_out\n",
    "        hidden_errors = np.dot(self.who.T, output_errors)\n",
    "        \n",
    "        #Update der Gewichte von Hidden nach Output auf Basis der berechneten Fehler\n",
    "        self.who += self.lr*np.dot((output_errors * final_outputs * (1.0 - final_outputs)), np.transpose(hidden_outputs))\n",
    "       \n",
    "        # += heißt einfach nur zähle zur Variable die neue Menge dazu: x +=3 -> x = x+3\n",
    "        \n",
    "        #Update der Gewichte von Input nach Hidden auf Basis der berechneten Fehler\n",
    "        self.wih += self.lr*np.dot((hidden_errors * hidden_outputs * (1.0 - hidden_outputs)), np.transpose(inputs))\n",
    "        pass\n",
    "    \n",
    "    #Query\n",
    "    def query(self, inputs_list):\n",
    "        \n",
    "        #sicherstellen, daß die Liste der Inputs ein 2D NumPy array ist \n",
    "        #für die anschl. Rechnungen muß das array noch transponiert werden \n",
    "        inputs = np.array(inputs_list, ndmin=2).T\n",
    "        \n",
    "        #Berechnung der Eingangssignale in die Hiddenschicht \n",
    "        #d.h. Multiplikation der ersten Matrix mit dem Input-array \n",
    "        hidden_inputs = np.dot(self.wih, inputs)\n",
    "        \n",
    "        #Berechnung der Ausgangssignale der Hiddenschicht\n",
    "        #d.h. Anwendung der Aktivierungsfunktion\n",
    "        hidden_outputs = self.activation_function(hidden_inputs)\n",
    "        \n",
    "        #Berechnung der Eingangssignale in die Output-Schicht \n",
    "        final_inputs = np.dot(self.who, hidden_outputs)\n",
    "                  \n",
    "        #Berechnung der Ausgangssignale der Output-Schicht\n",
    "        #d.h. Anwendung der Aktivierungsfunktion \n",
    "        final_outputs = self.activation_function(final_inputs)\n",
    "        \n",
    "        return final_outputs \n",
    "        pass"
   ]
  },
  {
   "cell_type": "markdown",
   "metadata": {},
   "source": [
    "Erster Check der Performance an einem standardmäßigen Klassifikationsbeispiel:  \n",
    "    handgeschriebene Zahlen erkennen"
   ]
  },
  {
   "cell_type": "code",
   "execution_count": 18,
   "metadata": {},
   "outputs": [
    {
     "name": "stdout",
     "output_type": "stream",
     "text": [
      "10000\n",
      "60000\n"
     ]
    }
   ],
   "source": [
    "#Testdaten einlesen\n",
    "\n",
    "data_file_test = open('../Daten/MNIST/mnist_test.csv', 'r')\n",
    "data_list_test = data_file_test.readlines() \n",
    "data_file_test.close()\n",
    "\n",
    "#Trainingsdaten einlesen\n",
    "data_file_train = open('../Daten/MNIST/mnist_train.csv', 'r') \n",
    "data_list_train = data_file_train.readlines()\n",
    "data_file_train.close()\n",
    "\n",
    "#Check der Dimensionen \n",
    "print(len(data_list_test)) #10000 Testdatensätze \n",
    "print(len(data_list_train)) #60000 Trainingsdatensätze"
   ]
  },
  {
   "cell_type": "code",
   "execution_count": 11,
   "metadata": {},
   "outputs": [],
   "source": [
    "data_list_train;\n",
    "data_list_test[0]; \n",
    "#Datenstruktur: jedes Element ist ein langer String \n",
    "#mit den kommaseparierten Intensitäten und der Klasse vorne "
   ]
  },
  {
   "cell_type": "markdown",
   "metadata": {},
   "source": [
    "die Struktur der Daten ist wie folgt:\n",
    "     \n",
    "     \n",
    "'7 an der ersten Stelle ist das Label - es handelt sich also um ein Bild der handgeschriebenen Zahl 7  \n",
    "\n",
    "die folgenden 28x28 = 784 Zahlen sind die kodierten Farbwerte der einzelnen Pixel des Bildes (Wertebereich: 0-255)  \n",
    "\n",
    "Jetzt könnte man sich erstmal so ein Bild ansehen.  \n",
    "Dazu muß das Format der einzelnen Pattern geändert werden:  \n",
    "\n",
    "1) den langen kommaseparierten Datensatz in Einzelwerte splitten  \n",
    "2) den ersten Wert als Target behalten  \n",
    "3) Rest der 28x28 Datensätze in ein 28x28 array umformen  "
   ]
  },
  {
   "cell_type": "code",
   "execution_count": 19,
   "metadata": {},
   "outputs": [
    {
     "data": {
      "image/png": "[encoded data removed]",
      "text/plain": [
       "<Figure size 432x288 with 1 Axes>"
      ]
     },
     "metadata": {
      "needs_background": "light"
     },
     "output_type": "display_data"
    }
   ],
   "source": [
    "all_values_first_example = data_list_test[0].split(',') #Daten aufteilen\n",
    "image_array = np.asfarray(all_values_first_example[1:]).reshape((28,28)) #28x28 array draus machen\n",
    "plt.imshow(image_array, cmap='Greys', interpolation = 'None'); #plotten"
   ]
  },
  {
   "cell_type": "code",
   "execution_count": 21,
   "metadata": {},
   "outputs": [
    {
     "data": {
      "text/plain": [
       "784"
      ]
     },
     "execution_count": 21,
     "metadata": {},
     "output_type": "execute_result"
    }
   ],
   "source": [
    "len(all_values_first_example[1:])"
   ]
  },
  {
   "cell_type": "markdown",
   "metadata": {},
   "source": [
    "Jetzt erstmal eine kleine Testmenge daraus 100 Trainingsbeispiele und 10 Testdatensätze"
   ]
  },
  {
   "cell_type": "code",
   "execution_count": 22,
   "metadata": {},
   "outputs": [
    {
     "data": {
      "image/png": "[encoded data removed]",
      "text/plain": [
       "<Figure size 432x288 with 1 Axes>"
      ]
     },
     "metadata": {
      "needs_background": "light"
     },
     "output_type": "display_data"
    }
   ],
   "source": [
    "data_list_train_small = data_list_train[0:100] \n",
    "data_list_test_small = data_list_test[0:10]\n",
    "                                 \n",
    "len(data_list_train_small[0])\n",
    "\n",
    "all_values_first_example1 = data_list_test_small[9].split(',') #Daten aufteilen \n",
    "image_array1 = np.asfarray(all_values_first_example1[1:]).reshape((28,28)) #28x28 array draus machen\n",
    "plt.imshow(image_array1, cmap='Greys', interpolation = 'None'); #plotten\n",
    " "
   ]
  },
  {
   "cell_type": "markdown",
   "metadata": {},
   "source": [
    "Die Wertebereiche sind für Neuro nicht gut geeignet also: skalieren der Intensitätswerte auf [0,1]  \n",
    "Beispiel:"
   ]
  },
  {
   "cell_type": "code",
   "execution_count": 15,
   "metadata": {},
   "outputs": [],
   "source": [
    "scaled_example = (np.asfarray(all_values_first_example1[1:])/255.0 * 0.99) + 0.01\n",
    "scaled_example;"
   ]
  },
  {
   "cell_type": "markdown",
   "metadata": {},
   "source": [
    "Jetzt noch das Target generieren:  \n",
    "Sinnvoll ist es hier als Zielfunktion eine Liste zu generieren.  \n",
    "Es gibt Zahlen von 0 - 9, also 10 verschiedene Zielklassen. \n",
    "\n",
    "Als Target-Vektor wird standardmäßig ein 10-dim Vektor gewählt,  \n",
    "der an allen Stellen 0 hat außer an der Stelle der zutreffenden Klasse.  \n",
    "Dort ist der Wert dann 1  \n",
    " -> Stichwort: One-Hot – Codierung"
   ]
  },
  {
   "cell_type": "code",
   "execution_count": 16,
   "metadata": {},
   "outputs": [
    {
     "name": "stdout",
     "output_type": "stream",
     "text": [
      "[0.01 0.01 0.01 0.01 0.01 0.01 0.01 0.01 0.01 0.99]\n"
     ]
    }
   ],
   "source": [
    "#10 verschiedene Klassen \n",
    "onodes = 10\n",
    "\n",
    "#Vektor der Länge 10 mit lauter Nullen -\n",
    "# 0.01 sorgt nur dafür, daß keine Probleme mit z.B. teilen durch Null entstehen\n",
    "targets = np.zeros(onodes) + 0.01\n",
    "\n",
    "#jetzt wird der 0-te Eintrag gelesen = Targetklasse\n",
    "#dann wird eine ganze Zahl draus gemacht\n",
    "#dann wird im Null-Vektor an dieser Stelle eine 1 (bzw. 0.99 eingesetzt)\n",
    "targets[int(all_values_first_example1[0])] = 0.99 \n",
    "print(targets)"
   ]
  },
  {
   "cell_type": "markdown",
   "metadata": {},
   "source": [
    " Jetzt kann man im Prinzip das erste Beipiel mit dem simplen MLP bearbeiten..."
   ]
  },
  {
   "cell_type": "markdown",
   "metadata": {},
   "source": [
    "## das machen wir dann nächstes Mal - die Spannung steigt! :-)"
   ]
  },
  {
   "cell_type": "code",
   "execution_count": null,
   "metadata": {},
   "outputs": [],
   "source": []
  }
 ],
 "metadata": {
  "kernelspec": {
   "display_name": "Python 3",
   "language": "python",
   "name": "python3"
  },
  "language_info": {
   "codemirror_mode": {
    "name": "ipython",
    "version": 3
   },
   "file_extension": ".py",
   "mimetype": "text/x-python",
   "name": "python",
   "nbconvert_exporter": "python",
   "pygments_lexer": "ipython3",
   "version": "3.9.6 (default, Oct 18 2022, 12:41:40) \n[Clang 14.0.0 (clang-1400.0.29.202)]"
  },
  "vscode": {
   "interpreter": {
    "hash": "31f2aee4e71d21fbe5cf8b01ff0e069b9275f58929596ceb00d14d90e3e16cd6"
   }
  }
 },
 "nbformat": 4,
 "nbformat_minor": 2
}
