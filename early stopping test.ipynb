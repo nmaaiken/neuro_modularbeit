{
 "cells": [
  {
   "cell_type": "code",
   "execution_count": 1,
   "id": "8d1c35ee",
   "metadata": {},
   "outputs": [
    {
     "name": "stderr",
     "output_type": "stream",
     "text": [
      "WARNING (theano.tensor.blas): Using NumPy C-API based implementation for BLAS functions.\n"
     ]
    }
   ],
   "source": [
    "import pandas as pd\n",
    "import numpy as np\n",
    "import matplotlib as mpl\n",
    "import matplotlib.pyplot as plt\n",
    "%matplotlib inline\n",
    "\n",
    "\n",
    "import scipy as sc\n",
    "import math as ma\n",
    "from scipy import linalg, optimize, constants, interpolate, special, stats\n",
    "from math import exp, pow, sqrt, log\n",
    "\n",
    "import seaborn as sns #spezielle Graphikdarstellungen\n",
    "import statsmodels.api as sm\n",
    "import statsmodels.stats.api as sms\n",
    "\n",
    "#den oberen Teil kennt man schon vom letzten Mal...\n",
    "#Theano kommt neu dazu - \n",
    "#Library für effiziente Berechnungen mit großen Matrizen -> DeepLearning!\n",
    "import theano \n",
    "import tensorflow\n",
    "\n",
    " \n",
    "#Jetzt noch scikit-learn:\n",
    "#hier stecken viele Funktionalitäten drin, die man gut brauchen kann: \n",
    "#Fehlerfunktionen, Standard-Modelltypen, Preprocessing-Algorithmen, Daten... \n",
    "\n",
    "import sklearn as sl \n",
    "from sklearn import model_selection, metrics, datasets\n",
    "from sklearn.preprocessing import OneHotEncoder\n",
    "from sklearn.metrics import confusion_matrix\n",
    "#Import wichtiger Keras Funktionalitäten\n",
    "\n",
    "import keras\n",
    "from keras.datasets import mnist\n",
    "from keras.models import Sequential\n",
    "from keras.layers import Dense, Dropout, Flatten, Activation\n",
    "from keras.layers import Conv2D, MaxPooling2D\n",
    "from keras import backend as K\n",
    "\n",
    "from keras.utils import to_categorical\n",
    "from keras.optimizers import SGD #Stochastic Gradient Descent\n",
    "from keras.utils import plot_model\n",
    "\n",
    "import pickle"
   ]
  },
  {
   "cell_type": "code",
   "execution_count": 2,
   "id": "9755f04d",
   "metadata": {},
   "outputs": [],
   "source": [
    "# prepare gray scale data\n",
    "data_gray_file = open('./archiv/data6.pickle', 'rb')\n",
    "data_gray = pickle.load(data_gray_file, encoding='latin1')\n",
    "data_gray_file.close()\n",
    "\n",
    "# Preparing y_train and y_validation for use in Keras\n",
    "data_gray['y_train'] = to_categorical(data_gray['y_train'], num_classes=43)\n",
    "data_gray['y_validation'] = to_categorical(data_gray['y_validation'], num_classes=43)\n",
    "\n",
    "\n",
    "# prepare color data\n",
    "data_color_file = open('./archiv/data1.pickle', 'rb')\n",
    "data_color = pickle.load(data_color_file, encoding='latin1')\n",
    "data_color_file.close()\n",
    "\n",
    "# Preparing y_train and y_validation for use in Keras\n",
    "data_color['y_train'] = to_categorical(data_color['y_train'], num_classes=43)\n",
    "data_color['y_validation'] = to_categorical(data_color['y_validation'], num_classes=43)"
   ]
  },
  {
   "cell_type": "code",
   "execution_count": 3,
   "id": "b550a901",
   "metadata": {},
   "outputs": [
    {
     "name": "stdout",
     "output_type": "stream",
     "text": [
      "x_train_gray.shape: (86989, 32, 32, 1)\n",
      "x_train_color.shape: (86989, 32, 32, 3)\n",
      "x_test_gray.shape: (12630, 32, 32, 1)\n",
      "x_test_color.shape: (12630, 32, 32, 3)\n",
      "y_train_gray.shape: (86989, 43)\n",
      "y_train_color.shape: (86989, 43, 43)\n",
      "y_test_gray.shape: (12630, 43)\n",
      "y_test_color.shape: (12630, 43)\n"
     ]
    }
   ],
   "source": [
    "# Transpose data to have channel at the end\n",
    "x_train_gray = data_gray['x_train'].transpose(0, 2, 3, 1)\n",
    "x_train_color = data_color['x_train'].transpose(0, 2, 3, 1)\n",
    "\n",
    "x_test_gray = data_gray['x_test'].transpose(0, 2, 3, 1)\n",
    "x_test_color = data_color['x_test'].transpose(0, 2, 3, 1)\n",
    "\n",
    "x_validation_gray = data_gray['x_validation'].transpose(0, 2, 3, 1)\n",
    "x_validation_color = data_color['x_validation'].transpose(0, 2, 3, 1)\n",
    "\n",
    "# one hot encoding\n",
    "#y_train_gray = to_categorical(data_gray['y_train'], num_classes=43)\n",
    "y_train_gray = data_gray['y_train']\n",
    "y_train_color = to_categorical(data_color['y_train'], num_classes=43)\n",
    "y_test_gray = to_categorical(data_gray['y_test'], num_classes=43)\n",
    "#y_test_gray = data_gray['y_test']\n",
    "y_test_color = to_categorical(data_color['y_test'], num_classes=43)\n",
    "\n",
    "print('x_train_gray.shape: ' + str(x_train_gray.shape))\n",
    "print('x_train_color.shape: ' + str(x_train_color.shape))\n",
    "print('x_test_gray.shape: ' + str(x_test_gray.shape))\n",
    "print('x_test_color.shape: ' + str(x_test_color.shape))\n",
    "\n",
    "\n",
    "print('y_train_gray.shape: ' + str(y_train_gray.shape))\n",
    "print('y_train_color.shape: ' + str(y_train_color.shape))\n",
    "print('y_test_gray.shape: ' + str(y_test_gray.shape))\n",
    "print('y_test_color.shape: ' + str(y_test_color.shape))"
   ]
  },
  {
   "cell_type": "code",
   "execution_count": 4,
   "id": "c7791d9a",
   "metadata": {},
   "outputs": [
    {
     "name": "stdout",
     "output_type": "stream",
     "text": [
      "(86989, 1024)\n"
     ]
    }
   ],
   "source": [
    "x_train_gray = x_train_gray.reshape(x_train_gray.shape[0], 1*32*32)\n",
    "x_test_gray = x_test_gray.reshape(x_test_gray.shape[0], 1*32*32)\n",
    "x_validation = x_validation_gray.reshape(x_validation_gray.shape[0], 1*32*32)\n",
    "\n",
    "print(x_train_gray.shape)"
   ]
  },
  {
   "cell_type": "code",
   "execution_count": null,
   "id": "658c9fff",
   "metadata": {},
   "outputs": [],
   "source": []
  }
 ],
 "metadata": {
  "kernelspec": {
   "display_name": "Python 3 (ipykernel)",
   "language": "python",
   "name": "python3"
  },
  "language_info": {
   "codemirror_mode": {
    "name": "ipython",
    "version": 3
   },
   "file_extension": ".py",
   "mimetype": "text/x-python",
   "name": "python",
   "nbconvert_exporter": "python",
   "pygments_lexer": "ipython3",
   "version": "3.9.5"
  }
 },
 "nbformat": 4,
 "nbformat_minor": 5
}
